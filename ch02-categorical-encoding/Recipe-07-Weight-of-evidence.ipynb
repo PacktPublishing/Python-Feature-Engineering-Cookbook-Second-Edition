{
 "cells": [
  {
   "cell_type": "markdown",
   "metadata": {},
   "source": [
    "# Weight of evidence"
   ]
  },
  {
   "cell_type": "code",
   "execution_count": 1,
   "metadata": {},
   "outputs": [],
   "source": [
    "import numpy as np\n",
    "import pandas as pd\n",
    "from sklearn.model_selection import train_test_split"
   ]
  },
  {
   "cell_type": "code",
   "execution_count": 2,
   "metadata": {},
   "outputs": [
    {
     "data": {
      "text/html": [
       "<div>\n",
       "<style scoped>\n",
       "    .dataframe tbody tr th:only-of-type {\n",
       "        vertical-align: middle;\n",
       "    }\n",
       "\n",
       "    .dataframe tbody tr th {\n",
       "        vertical-align: top;\n",
       "    }\n",
       "\n",
       "    .dataframe thead th {\n",
       "        text-align: right;\n",
       "    }\n",
       "</style>\n",
       "<table border=\"1\" class=\"dataframe\">\n",
       "  <thead>\n",
       "    <tr style=\"text-align: right;\">\n",
       "      <th></th>\n",
       "      <th>A1</th>\n",
       "      <th>A2</th>\n",
       "      <th>A3</th>\n",
       "      <th>A4</th>\n",
       "      <th>A5</th>\n",
       "      <th>A6</th>\n",
       "      <th>A7</th>\n",
       "      <th>A8</th>\n",
       "      <th>A9</th>\n",
       "      <th>A10</th>\n",
       "      <th>A11</th>\n",
       "      <th>A12</th>\n",
       "      <th>A13</th>\n",
       "      <th>A14</th>\n",
       "      <th>A15</th>\n",
       "      <th>target</th>\n",
       "    </tr>\n",
       "  </thead>\n",
       "  <tbody>\n",
       "    <tr>\n",
       "      <th>0</th>\n",
       "      <td>b</td>\n",
       "      <td>30.83</td>\n",
       "      <td>0.000</td>\n",
       "      <td>u</td>\n",
       "      <td>g</td>\n",
       "      <td>w</td>\n",
       "      <td>v</td>\n",
       "      <td>1.25</td>\n",
       "      <td>t</td>\n",
       "      <td>t</td>\n",
       "      <td>1</td>\n",
       "      <td>f</td>\n",
       "      <td>g</td>\n",
       "      <td>202.0</td>\n",
       "      <td>0</td>\n",
       "      <td>1</td>\n",
       "    </tr>\n",
       "    <tr>\n",
       "      <th>1</th>\n",
       "      <td>a</td>\n",
       "      <td>58.67</td>\n",
       "      <td>4.460</td>\n",
       "      <td>u</td>\n",
       "      <td>g</td>\n",
       "      <td>q</td>\n",
       "      <td>h</td>\n",
       "      <td>3.04</td>\n",
       "      <td>t</td>\n",
       "      <td>t</td>\n",
       "      <td>6</td>\n",
       "      <td>f</td>\n",
       "      <td>g</td>\n",
       "      <td>43.0</td>\n",
       "      <td>560</td>\n",
       "      <td>1</td>\n",
       "    </tr>\n",
       "    <tr>\n",
       "      <th>2</th>\n",
       "      <td>a</td>\n",
       "      <td>24.50</td>\n",
       "      <td>0.500</td>\n",
       "      <td>u</td>\n",
       "      <td>g</td>\n",
       "      <td>q</td>\n",
       "      <td>h</td>\n",
       "      <td>1.50</td>\n",
       "      <td>t</td>\n",
       "      <td>f</td>\n",
       "      <td>0</td>\n",
       "      <td>f</td>\n",
       "      <td>g</td>\n",
       "      <td>280.0</td>\n",
       "      <td>824</td>\n",
       "      <td>1</td>\n",
       "    </tr>\n",
       "    <tr>\n",
       "      <th>3</th>\n",
       "      <td>b</td>\n",
       "      <td>27.83</td>\n",
       "      <td>1.540</td>\n",
       "      <td>u</td>\n",
       "      <td>g</td>\n",
       "      <td>w</td>\n",
       "      <td>v</td>\n",
       "      <td>3.75</td>\n",
       "      <td>t</td>\n",
       "      <td>t</td>\n",
       "      <td>5</td>\n",
       "      <td>t</td>\n",
       "      <td>g</td>\n",
       "      <td>100.0</td>\n",
       "      <td>3</td>\n",
       "      <td>1</td>\n",
       "    </tr>\n",
       "    <tr>\n",
       "      <th>4</th>\n",
       "      <td>b</td>\n",
       "      <td>20.17</td>\n",
       "      <td>5.625</td>\n",
       "      <td>u</td>\n",
       "      <td>g</td>\n",
       "      <td>w</td>\n",
       "      <td>v</td>\n",
       "      <td>1.71</td>\n",
       "      <td>t</td>\n",
       "      <td>f</td>\n",
       "      <td>0</td>\n",
       "      <td>f</td>\n",
       "      <td>s</td>\n",
       "      <td>120.0</td>\n",
       "      <td>0</td>\n",
       "      <td>1</td>\n",
       "    </tr>\n",
       "  </tbody>\n",
       "</table>\n",
       "</div>"
      ],
      "text/plain": [
       "  A1     A2     A3 A4 A5 A6 A7    A8 A9 A10  A11 A12 A13    A14  A15  target\n",
       "0  b  30.83  0.000  u  g  w  v  1.25  t   t    1   f   g  202.0    0       1\n",
       "1  a  58.67  4.460  u  g  q  h  3.04  t   t    6   f   g   43.0  560       1\n",
       "2  a  24.50  0.500  u  g  q  h  1.50  t   f    0   f   g  280.0  824       1\n",
       "3  b  27.83  1.540  u  g  w  v  3.75  t   t    5   t   g  100.0    3       1\n",
       "4  b  20.17  5.625  u  g  w  v  1.71  t   f    0   f   s  120.0    0       1"
      ]
     },
     "execution_count": 2,
     "metadata": {},
     "output_type": "execute_result"
    }
   ],
   "source": [
    "# let's load the data set\n",
    "\n",
    "data = pd.read_csv(\"credit_approval_uci.csv\")\n",
    "\n",
    "data.head()"
   ]
  },
  {
   "cell_type": "code",
   "execution_count": 3,
   "metadata": {},
   "outputs": [
    {
     "data": {
      "text/plain": [
       "((483, 15), (207, 15))"
      ]
     },
     "execution_count": 3,
     "metadata": {},
     "output_type": "execute_result"
    }
   ],
   "source": [
    "# Let's separate into training and testing sets\n",
    "\n",
    "X_train, X_test, y_train, y_test = train_test_split(\n",
    "    data.drop(labels=[\"target\"], axis=1),  # predictors\n",
    "    data[\"target\"],  # target\n",
    "    test_size=0.3,  # percentage of observations in test set\n",
    "    random_state=0,  # seed to ensure reproducibility\n",
    ")\n",
    "\n",
    "X_train.shape, X_test.shape"
   ]
  },
  {
   "cell_type": "markdown",
   "metadata": {},
   "source": [
    "# Weight of Evidence with pandas"
   ]
  },
  {
   "cell_type": "code",
   "execution_count": 4,
   "metadata": {},
   "outputs": [],
   "source": [
    "# Let's get the inverse of the target values\n",
    "# to be able to calculate the negative cases\n",
    "\n",
    "neg_y_train = pd.Series(\n",
    "    np.where(y_train == 1, 0, 1),\n",
    "    index=y_train.index,\n",
    ")"
   ]
  },
  {
   "cell_type": "code",
   "execution_count": 5,
   "metadata": {},
   "outputs": [
    {
     "data": {
      "text/plain": [
       "(217, 266)"
      ]
     },
     "execution_count": 5,
     "metadata": {},
     "output_type": "execute_result"
    }
   ],
   "source": [
    "# Let's obtain the number of observations\n",
    "# where the target takes the value 1 or 0\n",
    "\n",
    "total_pos = y_train.sum()\n",
    "total_neg = neg_y_train.sum()\n",
    "\n",
    "total_pos, total_neg"
   ]
  },
  {
   "cell_type": "code",
   "execution_count": 6,
   "metadata": {},
   "outputs": [
    {
     "data": {
      "text/plain": [
       "(A1\n",
       " Missing    0.009217\n",
       " a          0.313364\n",
       " b          0.677419\n",
       " Name: target, dtype: float64,\n",
       " A1\n",
       " Missing    0.007519\n",
       " a          0.285714\n",
       " b          0.706767\n",
       " dtype: float64)"
      ]
     },
     "execution_count": 6,
     "metadata": {},
     "output_type": "execute_result"
    }
   ],
   "source": [
    "# Determine the numerator and denominator of the\n",
    "# WoE formula\n",
    "\n",
    "pos = y_train.groupby(X_train[\"A1\"]).sum() / total_pos\n",
    "neg = neg_y_train.groupby(X_train[\"A1\"]).sum() / total_neg\n",
    "\n",
    "pos, neg"
   ]
  },
  {
   "cell_type": "code",
   "execution_count": 7,
   "metadata": {},
   "outputs": [
    {
     "data": {
      "text/plain": [
       "A1\n",
       "Missing    0.203599\n",
       "a          0.092373\n",
       "b         -0.042410\n",
       "dtype: float64"
      ]
     },
     "execution_count": 7,
     "metadata": {},
     "output_type": "execute_result"
    }
   ],
   "source": [
    "# Calculate the WoE\n",
    "\n",
    "woe = np.log(pos / neg)\n",
    "\n",
    "woe"
   ]
  },
  {
   "cell_type": "code",
   "execution_count": 8,
   "metadata": {},
   "outputs": [],
   "source": [
    "# Replace categories with the woe\n",
    "\n",
    "X_train[\"A1\"] = X_train[\"A1\"].map(woe)\n",
    "X_test[\"A1\"] = X_test[\"A1\"].map(woe)"
   ]
  },
  {
   "cell_type": "code",
   "execution_count": 9,
   "metadata": {},
   "outputs": [
    {
     "data": {
      "text/plain": [
       "596    0.092373\n",
       "303    0.092373\n",
       "204   -0.042410\n",
       "351   -0.042410\n",
       "118   -0.042410\n",
       "Name: A1, dtype: float64"
      ]
     },
     "execution_count": 9,
     "metadata": {},
     "output_type": "execute_result"
    }
   ],
   "source": [
    "# Inspect encoded variable\n",
    "\n",
    "X_train[\"A1\"].head()"
   ]
  },
  {
   "cell_type": "markdown",
   "metadata": {},
   "source": [
    "# Weight of Evidence with Feature-engine"
   ]
  },
  {
   "cell_type": "code",
   "execution_count": 10,
   "metadata": {},
   "outputs": [],
   "source": [
    "from feature_engine.encoding import WoEEncoder"
   ]
  },
  {
   "cell_type": "code",
   "execution_count": 11,
   "metadata": {},
   "outputs": [],
   "source": [
    "# Let's separate into training and testing sets\n",
    "\n",
    "X_train, X_test, y_train, y_test = train_test_split(\n",
    "    data.drop(labels=[\"target\"], axis=1),  # predictors\n",
    "    data[\"target\"],  # target\n",
    "    test_size=0.3,  # percentage of observations in test set\n",
    "    random_state=0,  # seed to ensure reproducibility\n",
    ")"
   ]
  },
  {
   "cell_type": "code",
   "execution_count": 12,
   "metadata": {},
   "outputs": [],
   "source": [
    "# Set up the weight of evidence encoder to\n",
    "# encode a few variables\n",
    "\n",
    "woe_enc = WoEEncoder(variables=[\"A1\", \"A9\", \"A12\"])"
   ]
  },
  {
   "cell_type": "code",
   "execution_count": 13,
   "metadata": {},
   "outputs": [
    {
     "data": {
      "text/plain": [
       "WoEEncoder(variables=['A1', 'A9', 'A12'])"
      ]
     },
     "execution_count": 13,
     "metadata": {},
     "output_type": "execute_result"
    }
   ],
   "source": [
    "# Find the WoE values for each category\n",
    "\n",
    "woe_enc.fit(X_train, y_train)"
   ]
  },
  {
   "cell_type": "code",
   "execution_count": 14,
   "metadata": {},
   "outputs": [
    {
     "data": {
      "text/plain": [
       "['A1', 'A9', 'A12']"
      ]
     },
     "execution_count": 14,
     "metadata": {},
     "output_type": "execute_result"
    }
   ],
   "source": [
    "# let's inspect the variables that will be encoded\n",
    "\n",
    "woe_enc.variables_"
   ]
  },
  {
   "cell_type": "code",
   "execution_count": 15,
   "metadata": {},
   "outputs": [
    {
     "data": {
      "text/plain": [
       "{'A1': {'Missing': 0.20359895524123955,\n",
       "  'a': 0.09237332013101507,\n",
       "  'b': -0.04241042080997339},\n",
       " 'A9': {'f': -2.3756704559950457, 't': 1.4995706780678444},\n",
       " 'A12': {'f': 0.012909148776768313, 't': -0.015454610821445114}}"
      ]
     },
     "execution_count": 15,
     "metadata": {},
     "output_type": "execute_result"
    }
   ],
   "source": [
    "# the encoder stores the woe values per category per variable\n",
    "\n",
    "woe_enc.encoder_dict_"
   ]
  },
  {
   "cell_type": "code",
   "execution_count": 16,
   "metadata": {},
   "outputs": [],
   "source": [
    "# let's transform train and test sets\n",
    "\n",
    "X_train_enc = woe_enc.transform(X_train)\n",
    "X_test_enc = woe_enc.transform(X_test)"
   ]
  },
  {
   "cell_type": "code",
   "execution_count": 17,
   "metadata": {},
   "outputs": [
    {
     "data": {
      "text/html": [
       "<div>\n",
       "<style scoped>\n",
       "    .dataframe tbody tr th:only-of-type {\n",
       "        vertical-align: middle;\n",
       "    }\n",
       "\n",
       "    .dataframe tbody tr th {\n",
       "        vertical-align: top;\n",
       "    }\n",
       "\n",
       "    .dataframe thead th {\n",
       "        text-align: right;\n",
       "    }\n",
       "</style>\n",
       "<table border=\"1\" class=\"dataframe\">\n",
       "  <thead>\n",
       "    <tr style=\"text-align: right;\">\n",
       "      <th></th>\n",
       "      <th>A1</th>\n",
       "      <th>A2</th>\n",
       "      <th>A3</th>\n",
       "      <th>A4</th>\n",
       "      <th>A5</th>\n",
       "      <th>A6</th>\n",
       "      <th>A7</th>\n",
       "      <th>A8</th>\n",
       "      <th>A9</th>\n",
       "      <th>A10</th>\n",
       "      <th>A11</th>\n",
       "      <th>A12</th>\n",
       "      <th>A13</th>\n",
       "      <th>A14</th>\n",
       "      <th>A15</th>\n",
       "    </tr>\n",
       "  </thead>\n",
       "  <tbody>\n",
       "    <tr>\n",
       "      <th>596</th>\n",
       "      <td>0.092373</td>\n",
       "      <td>46.08</td>\n",
       "      <td>3.000</td>\n",
       "      <td>u</td>\n",
       "      <td>g</td>\n",
       "      <td>c</td>\n",
       "      <td>v</td>\n",
       "      <td>2.375</td>\n",
       "      <td>1.499571</td>\n",
       "      <td>t</td>\n",
       "      <td>8</td>\n",
       "      <td>-0.015455</td>\n",
       "      <td>g</td>\n",
       "      <td>396.0</td>\n",
       "      <td>4159</td>\n",
       "    </tr>\n",
       "    <tr>\n",
       "      <th>303</th>\n",
       "      <td>0.092373</td>\n",
       "      <td>15.92</td>\n",
       "      <td>2.875</td>\n",
       "      <td>u</td>\n",
       "      <td>g</td>\n",
       "      <td>q</td>\n",
       "      <td>v</td>\n",
       "      <td>0.085</td>\n",
       "      <td>-2.375670</td>\n",
       "      <td>f</td>\n",
       "      <td>0</td>\n",
       "      <td>0.012909</td>\n",
       "      <td>g</td>\n",
       "      <td>120.0</td>\n",
       "      <td>0</td>\n",
       "    </tr>\n",
       "    <tr>\n",
       "      <th>204</th>\n",
       "      <td>-0.042410</td>\n",
       "      <td>36.33</td>\n",
       "      <td>2.125</td>\n",
       "      <td>y</td>\n",
       "      <td>p</td>\n",
       "      <td>w</td>\n",
       "      <td>v</td>\n",
       "      <td>0.085</td>\n",
       "      <td>1.499571</td>\n",
       "      <td>t</td>\n",
       "      <td>1</td>\n",
       "      <td>0.012909</td>\n",
       "      <td>g</td>\n",
       "      <td>50.0</td>\n",
       "      <td>1187</td>\n",
       "    </tr>\n",
       "    <tr>\n",
       "      <th>351</th>\n",
       "      <td>-0.042410</td>\n",
       "      <td>22.17</td>\n",
       "      <td>0.585</td>\n",
       "      <td>y</td>\n",
       "      <td>p</td>\n",
       "      <td>ff</td>\n",
       "      <td>ff</td>\n",
       "      <td>0.000</td>\n",
       "      <td>-2.375670</td>\n",
       "      <td>f</td>\n",
       "      <td>0</td>\n",
       "      <td>0.012909</td>\n",
       "      <td>g</td>\n",
       "      <td>100.0</td>\n",
       "      <td>0</td>\n",
       "    </tr>\n",
       "    <tr>\n",
       "      <th>118</th>\n",
       "      <td>-0.042410</td>\n",
       "      <td>57.83</td>\n",
       "      <td>7.040</td>\n",
       "      <td>u</td>\n",
       "      <td>g</td>\n",
       "      <td>m</td>\n",
       "      <td>v</td>\n",
       "      <td>14.000</td>\n",
       "      <td>1.499571</td>\n",
       "      <td>t</td>\n",
       "      <td>6</td>\n",
       "      <td>-0.015455</td>\n",
       "      <td>g</td>\n",
       "      <td>360.0</td>\n",
       "      <td>1332</td>\n",
       "    </tr>\n",
       "  </tbody>\n",
       "</table>\n",
       "</div>"
      ],
      "text/plain": [
       "           A1     A2     A3 A4 A5  A6  A7      A8        A9 A10  A11  \\\n",
       "596  0.092373  46.08  3.000  u  g   c   v   2.375  1.499571   t    8   \n",
       "303  0.092373  15.92  2.875  u  g   q   v   0.085 -2.375670   f    0   \n",
       "204 -0.042410  36.33  2.125  y  p   w   v   0.085  1.499571   t    1   \n",
       "351 -0.042410  22.17  0.585  y  p  ff  ff   0.000 -2.375670   f    0   \n",
       "118 -0.042410  57.83  7.040  u  g   m   v  14.000  1.499571   t    6   \n",
       "\n",
       "          A12 A13    A14   A15  \n",
       "596 -0.015455   g  396.0  4159  \n",
       "303  0.012909   g  120.0     0  \n",
       "204  0.012909   g   50.0  1187  \n",
       "351  0.012909   g  100.0     0  \n",
       "118 -0.015455   g  360.0  1332  "
      ]
     },
     "execution_count": 17,
     "metadata": {},
     "output_type": "execute_result"
    }
   ],
   "source": [
    "# Inspect the encoded data\n",
    "\n",
    "X_train_enc.head()"
   ]
  },
  {
   "cell_type": "code",
   "execution_count": 18,
   "metadata": {},
   "outputs": [
    {
     "data": {
      "text/html": [
       "<div>\n",
       "<style scoped>\n",
       "    .dataframe tbody tr th:only-of-type {\n",
       "        vertical-align: middle;\n",
       "    }\n",
       "\n",
       "    .dataframe tbody tr th {\n",
       "        vertical-align: top;\n",
       "    }\n",
       "\n",
       "    .dataframe thead th {\n",
       "        text-align: right;\n",
       "    }\n",
       "</style>\n",
       "<table border=\"1\" class=\"dataframe\">\n",
       "  <thead>\n",
       "    <tr style=\"text-align: right;\">\n",
       "      <th></th>\n",
       "      <th>A1</th>\n",
       "      <th>A2</th>\n",
       "      <th>A3</th>\n",
       "      <th>A4</th>\n",
       "      <th>A5</th>\n",
       "      <th>A6</th>\n",
       "      <th>A7</th>\n",
       "      <th>A8</th>\n",
       "      <th>A9</th>\n",
       "      <th>A10</th>\n",
       "      <th>A11</th>\n",
       "      <th>A12</th>\n",
       "      <th>A13</th>\n",
       "      <th>A14</th>\n",
       "      <th>A15</th>\n",
       "    </tr>\n",
       "  </thead>\n",
       "  <tbody>\n",
       "    <tr>\n",
       "      <th>14</th>\n",
       "      <td>0.092373</td>\n",
       "      <td>45.83</td>\n",
       "      <td>10.50</td>\n",
       "      <td>u</td>\n",
       "      <td>g</td>\n",
       "      <td>q</td>\n",
       "      <td>v</td>\n",
       "      <td>5.000</td>\n",
       "      <td>1.499571</td>\n",
       "      <td>t</td>\n",
       "      <td>7</td>\n",
       "      <td>-0.015455</td>\n",
       "      <td>g</td>\n",
       "      <td>0.0</td>\n",
       "      <td>0</td>\n",
       "    </tr>\n",
       "    <tr>\n",
       "      <th>586</th>\n",
       "      <td>-0.042410</td>\n",
       "      <td>64.08</td>\n",
       "      <td>20.00</td>\n",
       "      <td>u</td>\n",
       "      <td>g</td>\n",
       "      <td>x</td>\n",
       "      <td>h</td>\n",
       "      <td>17.500</td>\n",
       "      <td>1.499571</td>\n",
       "      <td>t</td>\n",
       "      <td>9</td>\n",
       "      <td>-0.015455</td>\n",
       "      <td>g</td>\n",
       "      <td>0.0</td>\n",
       "      <td>1000</td>\n",
       "    </tr>\n",
       "    <tr>\n",
       "      <th>140</th>\n",
       "      <td>0.092373</td>\n",
       "      <td>31.25</td>\n",
       "      <td>3.75</td>\n",
       "      <td>u</td>\n",
       "      <td>g</td>\n",
       "      <td>cc</td>\n",
       "      <td>h</td>\n",
       "      <td>0.625</td>\n",
       "      <td>1.499571</td>\n",
       "      <td>t</td>\n",
       "      <td>9</td>\n",
       "      <td>-0.015455</td>\n",
       "      <td>g</td>\n",
       "      <td>181.0</td>\n",
       "      <td>0</td>\n",
       "    </tr>\n",
       "    <tr>\n",
       "      <th>492</th>\n",
       "      <td>-0.042410</td>\n",
       "      <td>39.25</td>\n",
       "      <td>9.50</td>\n",
       "      <td>u</td>\n",
       "      <td>g</td>\n",
       "      <td>m</td>\n",
       "      <td>v</td>\n",
       "      <td>6.500</td>\n",
       "      <td>1.499571</td>\n",
       "      <td>t</td>\n",
       "      <td>14</td>\n",
       "      <td>0.012909</td>\n",
       "      <td>g</td>\n",
       "      <td>240.0</td>\n",
       "      <td>4607</td>\n",
       "    </tr>\n",
       "    <tr>\n",
       "      <th>350</th>\n",
       "      <td>0.092373</td>\n",
       "      <td>26.17</td>\n",
       "      <td>2.00</td>\n",
       "      <td>u</td>\n",
       "      <td>g</td>\n",
       "      <td>j</td>\n",
       "      <td>j</td>\n",
       "      <td>0.000</td>\n",
       "      <td>-2.375670</td>\n",
       "      <td>f</td>\n",
       "      <td>0</td>\n",
       "      <td>-0.015455</td>\n",
       "      <td>g</td>\n",
       "      <td>276.0</td>\n",
       "      <td>1</td>\n",
       "    </tr>\n",
       "  </tbody>\n",
       "</table>\n",
       "</div>"
      ],
      "text/plain": [
       "           A1     A2     A3 A4 A5  A6 A7      A8        A9 A10  A11       A12  \\\n",
       "14   0.092373  45.83  10.50  u  g   q  v   5.000  1.499571   t    7 -0.015455   \n",
       "586 -0.042410  64.08  20.00  u  g   x  h  17.500  1.499571   t    9 -0.015455   \n",
       "140  0.092373  31.25   3.75  u  g  cc  h   0.625  1.499571   t    9 -0.015455   \n",
       "492 -0.042410  39.25   9.50  u  g   m  v   6.500  1.499571   t   14  0.012909   \n",
       "350  0.092373  26.17   2.00  u  g   j  j   0.000 -2.375670   f    0 -0.015455   \n",
       "\n",
       "    A13    A14   A15  \n",
       "14    g    0.0     0  \n",
       "586   g    0.0  1000  \n",
       "140   g  181.0     0  \n",
       "492   g  240.0  4607  \n",
       "350   g  276.0     1  "
      ]
     },
     "execution_count": 18,
     "metadata": {},
     "output_type": "execute_result"
    }
   ],
   "source": [
    "# Inspect the encoded data\n",
    "\n",
    "X_test_enc.head()"
   ]
  },
  {
   "cell_type": "markdown",
   "metadata": {},
   "source": [
    "# Weight of Evidence with Category Encoders"
   ]
  },
  {
   "cell_type": "code",
   "execution_count": 19,
   "metadata": {},
   "outputs": [],
   "source": [
    "from category_encoders.woe import WOEEncoder"
   ]
  },
  {
   "cell_type": "code",
   "execution_count": 20,
   "metadata": {},
   "outputs": [],
   "source": [
    "# Set up the weight of evidence encoder to\n",
    "# encode a few variables\n",
    "\n",
    "woe_enc = WOEEncoder(cols=[\"A1\", \"A9\", \"A12\"])"
   ]
  },
  {
   "cell_type": "code",
   "execution_count": 21,
   "metadata": {},
   "outputs": [
    {
     "data": {
      "text/plain": [
       "WOEEncoder(cols=['A1', 'A9', 'A12'])"
      ]
     },
     "execution_count": 21,
     "metadata": {},
     "output_type": "execute_result"
    }
   ],
   "source": [
    "# Find the WoE values for each category\n",
    "\n",
    "woe_enc.fit(X_train, y_train)"
   ]
  },
  {
   "cell_type": "code",
   "execution_count": 22,
   "metadata": {},
   "outputs": [
    {
     "data": {
      "text/plain": [
       "{'A1': A1\n",
       "  1    0.092216\n",
       "  2   -0.042619\n",
       "  3    0.201915\n",
       " -1    0.000000\n",
       " -2    0.000000\n",
       " dtype: float64,\n",
       " 'A9': A9\n",
       "  1    1.484831\n",
       "  2   -2.321458\n",
       " -1    0.000000\n",
       " -2    0.000000\n",
       " dtype: float64,\n",
       " 'A12': A12\n",
       "  1   -0.015149\n",
       "  2    0.012673\n",
       " -1    0.000000\n",
       " -2    0.000000\n",
       " dtype: float64}"
      ]
     },
     "execution_count": 22,
     "metadata": {},
     "output_type": "execute_result"
    }
   ],
   "source": [
    "# The WoE values are stored in the mapping attribute\n",
    "\n",
    "# (the values are slightly different from those from\n",
    "# Feature-engine because of the regularization term.\n",
    "# If we set regularization=0, the values should be identical)\n",
    "\n",
    "woe_enc.mapping"
   ]
  },
  {
   "cell_type": "code",
   "execution_count": 23,
   "metadata": {},
   "outputs": [],
   "source": [
    "# let's transform train and test sets\n",
    "\n",
    "X_train_enc = woe_enc.transform(X_train)\n",
    "X_test_enc = woe_enc.transform(X_test)"
   ]
  },
  {
   "cell_type": "code",
   "execution_count": null,
   "metadata": {},
   "outputs": [],
   "source": []
  }
 ],
 "metadata": {
  "kernelspec": {
   "display_name": "feml",
   "language": "python",
   "name": "feml"
  },
  "language_info": {
   "codemirror_mode": {
    "name": "ipython",
    "version": 3
   },
   "file_extension": ".py",
   "mimetype": "text/x-python",
   "name": "python",
   "nbconvert_exporter": "python",
   "pygments_lexer": "ipython3",
   "version": "3.8.2"
  },
  "toc": {
   "base_numbering": 1,
   "nav_menu": {},
   "number_sections": true,
   "sideBar": true,
   "skip_h1_title": false,
   "title_cell": "Table of Contents",
   "title_sidebar": "Contents",
   "toc_cell": false,
   "toc_position": {
    "height": "921.556px",
    "left": "0px",
    "right": "1827px",
    "top": "110.444px",
    "width": "168.333px"
   },
   "toc_section_display": "block",
   "toc_window_display": true
  }
 },
 "nbformat": 4,
 "nbformat_minor": 2
}
